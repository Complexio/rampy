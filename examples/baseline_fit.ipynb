{
 "cells": [
  {
   "cell_type": "markdown",
   "metadata": {},
   "source": [
    "# Quick example to fit a baseline\n"
   ]
  },
  {
   "cell_type": "code",
   "execution_count": 1,
   "metadata": {},
   "outputs": [],
   "source": [
    "%matplotlib inline\n",
    "import numpy as np\n",
    "import scipy\n",
    "from matplotlib import pyplot as plt\n",
    "\n",
    "import rampy\n",
    "from sklearn import preprocessing"
   ]
  },
  {
   "cell_type": "markdown",
   "metadata": {},
   "source": [
    "# Creating a signal"
   ]
  },
  {
   "cell_type": "code",
   "execution_count": 2,
   "metadata": {},
   "outputs": [
    {
     "data": {
      "text/plain": [
       "[<matplotlib.lines.Line2D at 0x7f3020ae9fd0>]"
      ]
     },
     "execution_count": 2,
     "metadata": {},
     "output_type": "execute_result"
    },
    {
     "data": {
      "image/png": "[encoded data removed]",
      "text/plain": [
       "<Figure size 432x288 with 1 Axes>"
      ]
     },
     "metadata": {
      "needs_background": "light"
     },
     "output_type": "display_data"
    }
   ],
   "source": [
    "nb_points  =500\n",
    "x = np.linspace(50, 500, nb_points)\n",
    "\n",
    "# gaussian peaks\n",
    "p1 = 20.0 * np.exp(-np.log(2) * ((x-150.0)/15.0)**2)\n",
    "p2 = 100.0 * np.exp(-np.log(2) * ((x-250.0)/5.0)**2)\n",
    "p3 = 50.0 * np.exp(-np.log(2) * ((x-450.0)/1.0)**2)\n",
    "p4 = 20.0 * np.exp(-np.log(2) * ((x-350.0)/30.0)**2)\n",
    "p5 = 30.0 * np.exp(-np.log(2) * ((x-460.0)/5.0)**2)\n",
    "\n",
    "# background: a large gaussian + linear \n",
    "bkg = 60.0 * np.exp(-np.log(2) * ((x-250.0)/200.0)**2) + 0.1*x\n",
    "\n",
    "#noise\n",
    "noise = 2.0 * np.random.normal(size=nb_points)\n",
    "\n",
    "#observation\n",
    "y = p1 + p2 + p3 + p4 + p5 + noise +bkg\n",
    "\n",
    "plt.plot(x,y,\"r-\")"
   ]
  },
  {
   "cell_type": "markdown",
   "metadata": {},
   "source": [
    "# Now using different baselines to retrieve the true background"
   ]
  },
  {
   "cell_type": "code",
   "execution_count": 3,
   "metadata": {},
   "outputs": [
    {
     "ename": "ValueError",
     "evalue": "method not found, check you entered the right name.",
     "output_type": "error",
     "traceback": [
      "\u001b[0;31m---------------------------------------------------------------------------\u001b[0m",
      "\u001b[0;31mValueError\u001b[0m                                Traceback (most recent call last)",
      "\u001b[0;32m<ipython-input-3-183c28a36e44>\u001b[0m in \u001b[0;36m<module>\u001b[0;34m\u001b[0m\n\u001b[1;32m      8\u001b[0m \u001b[0mycalc_als\u001b[0m\u001b[0;34m,\u001b[0m \u001b[0mbase_als\u001b[0m \u001b[0;34m=\u001b[0m \u001b[0mrampy\u001b[0m\u001b[0;34m.\u001b[0m\u001b[0mbaseline\u001b[0m\u001b[0;34m(\u001b[0m\u001b[0mx\u001b[0m\u001b[0;34m,\u001b[0m\u001b[0my\u001b[0m\u001b[0;34m,\u001b[0m\u001b[0mroi\u001b[0m\u001b[0;34m,\u001b[0m\u001b[0;34m'als'\u001b[0m\u001b[0;34m,\u001b[0m\u001b[0mlam\u001b[0m\u001b[0;34m=\u001b[0m\u001b[0;36m10\u001b[0m\u001b[0;34m**\u001b[0m\u001b[0;36m7\u001b[0m\u001b[0;34m,\u001b[0m\u001b[0mp\u001b[0m\u001b[0;34m=\u001b[0m\u001b[0;36m0.05\u001b[0m\u001b[0;34m)\u001b[0m\u001b[0;34m\u001b[0m\u001b[0;34m\u001b[0m\u001b[0m\n\u001b[1;32m      9\u001b[0m \u001b[0mycalc_arpls\u001b[0m\u001b[0;34m,\u001b[0m \u001b[0mbase_arpsl\u001b[0m \u001b[0;34m=\u001b[0m \u001b[0mrampy\u001b[0m\u001b[0;34m.\u001b[0m\u001b[0mbaseline\u001b[0m\u001b[0;34m(\u001b[0m\u001b[0mx\u001b[0m\u001b[0;34m,\u001b[0m\u001b[0my\u001b[0m\u001b[0;34m,\u001b[0m\u001b[0mroi\u001b[0m\u001b[0;34m,\u001b[0m\u001b[0;34m'arPLS'\u001b[0m\u001b[0;34m,\u001b[0m\u001b[0mlam\u001b[0m\u001b[0;34m=\u001b[0m\u001b[0;36m10\u001b[0m\u001b[0;34m**\u001b[0m\u001b[0;36m7\u001b[0m\u001b[0;34m,\u001b[0m\u001b[0mratio\u001b[0m\u001b[0;34m=\u001b[0m\u001b[0;36m0.001\u001b[0m\u001b[0;34m)\u001b[0m\u001b[0;34m\u001b[0m\u001b[0;34m\u001b[0m\u001b[0m\n\u001b[0;32m---> 10\u001b[0;31m \u001b[0mycalc_drpls\u001b[0m\u001b[0;34m,\u001b[0m \u001b[0mbase_drpsl\u001b[0m \u001b[0;34m=\u001b[0m \u001b[0mrampy\u001b[0m\u001b[0;34m.\u001b[0m\u001b[0mbaseline\u001b[0m\u001b[0;34m(\u001b[0m\u001b[0mx\u001b[0m\u001b[0;34m,\u001b[0m\u001b[0my\u001b[0m\u001b[0;34m,\u001b[0m\u001b[0mroi\u001b[0m\u001b[0;34m,\u001b[0m\u001b[0;34m'rPLS'\u001b[0m\u001b[0;34m)\u001b[0m\u001b[0;34m\u001b[0m\u001b[0;34m\u001b[0m\u001b[0m\n\u001b[0m\u001b[1;32m     11\u001b[0m \u001b[0;34m\u001b[0m\u001b[0m\n\u001b[1;32m     12\u001b[0m \u001b[0;31m# doing the figure\u001b[0m\u001b[0;34m\u001b[0m\u001b[0;34m\u001b[0m\u001b[0;34m\u001b[0m\u001b[0m\n",
      "\u001b[0;32m~/anaconda3/envs/ml/lib/python3.7/site-packages/rampy/baseline.py\u001b[0m in \u001b[0;36mbaseline\u001b[0;34m(x_input, y_input, bir, method, **kwargs)\u001b[0m\n\u001b[1;32m    288\u001b[0m         \u001b[0mbaseline_fitted\u001b[0m \u001b[0;34m=\u001b[0m \u001b[0mZ\u001b[0m\u001b[0;34m\u001b[0m\u001b[0;34m\u001b[0m\u001b[0m\n\u001b[1;32m    289\u001b[0m     \u001b[0;32melse\u001b[0m\u001b[0;34m:\u001b[0m\u001b[0;34m\u001b[0m\u001b[0;34m\u001b[0m\u001b[0m\n\u001b[0;32m--> 290\u001b[0;31m         \u001b[0;32mraise\u001b[0m \u001b[0mValueError\u001b[0m\u001b[0;34m(\u001b[0m\u001b[0;34m\"method not found, check you entered the right name.\"\u001b[0m\u001b[0;34m)\u001b[0m\u001b[0;34m\u001b[0m\u001b[0;34m\u001b[0m\u001b[0m\n\u001b[0m\u001b[1;32m    291\u001b[0m \u001b[0;34m\u001b[0m\u001b[0m\n\u001b[1;32m    292\u001b[0m     \u001b[0;32mreturn\u001b[0m \u001b[0my_input\u001b[0m\u001b[0;34m.\u001b[0m\u001b[0mreshape\u001b[0m\u001b[0;34m(\u001b[0m\u001b[0;34m-\u001b[0m\u001b[0;36m1\u001b[0m\u001b[0;34m,\u001b[0m\u001b[0;36m1\u001b[0m\u001b[0;34m)\u001b[0m\u001b[0;34m-\u001b[0m\u001b[0mY_scaler\u001b[0m\u001b[0;34m.\u001b[0m\u001b[0minverse_transform\u001b[0m\u001b[0;34m(\u001b[0m\u001b[0mbaseline_fitted\u001b[0m\u001b[0;34m.\u001b[0m\u001b[0mreshape\u001b[0m\u001b[0;34m(\u001b[0m\u001b[0;34m-\u001b[0m\u001b[0;36m1\u001b[0m\u001b[0;34m,\u001b[0m \u001b[0;36m1\u001b[0m\u001b[0;34m)\u001b[0m\u001b[0;34m)\u001b[0m\u001b[0;34m,\u001b[0m \u001b[0mY_scaler\u001b[0m\u001b[0;34m.\u001b[0m\u001b[0minverse_transform\u001b[0m\u001b[0;34m(\u001b[0m\u001b[0mbaseline_fitted\u001b[0m\u001b[0;34m.\u001b[0m\u001b[0mreshape\u001b[0m\u001b[0;34m(\u001b[0m\u001b[0;34m-\u001b[0m\u001b[0;36m1\u001b[0m\u001b[0;34m,\u001b[0m \u001b[0;36m1\u001b[0m\u001b[0;34m)\u001b[0m\u001b[0;34m)\u001b[0m\u001b[0;34m\u001b[0m\u001b[0;34m\u001b[0m\u001b[0m\n",
      "\u001b[0;31mValueError\u001b[0m: method not found, check you entered the right name."
     ]
    }
   ],
   "source": [
    "# need to define some fitting regions for the spline\n",
    "roi = np.array([[0,100],[200,220],[280, 290],[420,430],[480,500]])\n",
    "\n",
    "# calculating the baselines\n",
    "ycalc_poly, base_poly = rampy.baseline(x,y,roi,'poly',polynomial_order=3 )\n",
    "#ycalc_gcvspl, base_gcvspl = rampy.baseline(x,y,roi,'gcvspline',s=0.1 ) # activate if you have installed gcvspline\n",
    "ycalc_uni, base_uni = rampy.baseline(x,y,roi,'unispline',s=1e0)\n",
    "ycalc_als, base_als = rampy.baseline(x,y,roi,'als',lam=10**7,p=0.05)\n",
    "ycalc_arpls, base_arpsl = rampy.baseline(x,y,roi,'arPLS',lam=10**7,ratio=0.001)\n",
    "ycalc_drpls, base_drpsl = rampy.baseline(x,y,roi,'rPLS')\n",
    "\n",
    "# doing the figure\n",
    "plt.figure(figsize=(10,10))\n",
    "plt.plot(x,y,\"k-\",label=\"Raw\")\n",
    "plt.plot(x,bkg,\"r-\",label=\"Bkg\")\n",
    "\n",
    "plt.plot(x,base_poly,\"-\",color=\"grey\",label=\"polynomial\")\n",
    "plt.plot(x,base_uni,\"b-\",label=\"unispline baseline\")\n",
    "#plot(x,base_gcvspl,\"-\",color=\"orange\",label=\"gcvspline baseline\") # activate if you have installed gcvspline\n",
    "plt.plot(x,base_als,\":\",color=\"purple\",label=\"als baseline\")\n",
    "plt.plot(x,base_arpsl,\"-.\",color=\"cyan\",label=\"arPLS baseline\")\n",
    "plt.plot(x,base_drpsl,\"--\",color=\"cyan\",label=\"drPLS baseline\")\n",
    "\n",
    "plt.xlabel(\"X\")\n",
    "plt.ylabel(\"Y\")\n",
    "\n",
    "plt.legend()"
   ]
  },
  {
   "cell_type": "code",
   "execution_count": 7,
   "metadata": {},
   "outputs": [
    {
     "name": "stdout",
     "output_type": "stream",
     "text": [
      "Help on function baseline in module rampy.baseline:\n",
      "\n",
      "baseline(x_input, y_input, bir, method, **kwargs)\n",
      "    Allows subtracting a baseline under a x y spectrum.\n",
      "    \n",
      "    Parameters\n",
      "    ----------\n",
      "    x_input : ndarray\n",
      "        x values.\n",
      "    y_input : ndarray\n",
      "        y values.\n",
      "    bir : ndarray\n",
      "        Contain the regions of interest, organised per line.\n",
      "        For instance, roi = np.array([[100., 200.],[500.,600.]]) will\n",
      "        define roi between 100 and 200 as well as between 500 and 600.\n",
      "        Note: This is NOT used by the \"als\" and \"arPLS\" algorithms, but still is a requirement when calling the function.\n",
      "        bir and method probably will become args in a futur iteration of rampy to solve this.\n",
      "    methods : str\n",
      "        \"poly\": polynomial fitting, with splinesmooth the degree of the polynomial.\n",
      "        \"unispline\": spline with the UnivariateSpline function of Scipy, splinesmooth is\n",
      "                     the spline smoothing factor (assume equal weight in the present case);\n",
      "        \"gcvspline\": spline with the gcvspl.f algorythm, really robust.\n",
      "                     Spectra must have x, y, ese in it, and splinesmooth is the smoothing factor;\n",
      "                     For gcvspline, if ese are not provided we assume ese = sqrt(y).\n",
      "                     Requires the installation of gcvspline with a \"pip install gcvspline\" call prior to use;\n",
      "        \"exp\": exponential background;\n",
      "        \"log\": logarythmic background;\n",
      "        \"rubberband\": rubberband baseline fitting;\n",
      "        \"als\": (automatic) baseline least square fitting following Eilers and Boelens 2005;\n",
      "        \"arPLS\": (automatic) Baseline correction using asymmetrically reweighted penalized least squares smoothing. Baek et al. 2015, Analyst 140: 250-257;\n",
      "        'drPLS': (automatic) Baseline correction method based on doubly reweighted penalized least squares. Xu et al., Applied Optics 58(14):3913-3920.\n",
      "    \n",
      "    kwargs\n",
      "    ------\n",
      "    polynomial_order : Int\n",
      "        The degree of the polynomial (0 for a constant), default = 1.\n",
      "    s : Float\n",
      "        spline smoothing coefficient for the unispline and gcvspline algorithms.\n",
      "    lam : Float\n",
      "        float, the lambda smoothness parameter for the ALS, ArPLS and drPLS algorithms. Typical values are between 10**2 to 10**9, default = 10**5 for ALS and ArPLS and default = 10**6 for drPLS.\n",
      "    p : Float\n",
      "        float, for the ALS algorithm, advised value between 0.001 to 0.1, default = 0.01.\n",
      "    ratio : float\n",
      "        ratio parameter of the arPLS and drPLS algorithm. default = 0.01 for arPLS and 0.001 for drPLS.\n",
      "    niter : Int\n",
      "        number of iteration of the ALS and drPLS algorithm, default = 10 for ALS and default = 100 for drPLS.\n",
      "    eta : Float\n",
      "        roughness parameter for the drPLS algorithm, is between 0 and 1, default = 0.5\n",
      "    p0_exp : List\n",
      "        containg the starting parameter for the exp baseline fit with curve_fit. Default = [1.,1.,1.].\n",
      "    p0_log : List\n",
      "        containg the starting parameter for the log baseline fit with curve_fit. Default = [1.,1.,1.,1.].\n",
      "    \n",
      "    Returns\n",
      "    -------\n",
      "    out1 : ndarray\n",
      "        Contain the corrected signal.\n",
      "    out2 : ndarray\n",
      "        Contain the baseline.\n",
      "\n"
     ]
    }
   ],
   "source": [
    "help(rampy.baseline)"
   ]
  },
  {
   "cell_type": "code",
   "execution_count": null,
   "metadata": {},
   "outputs": [],
   "source": []
  }
 ],
 "metadata": {
  "kernelspec": {
   "display_name": "Python 3",
   "language": "python",
   "name": "python3"
  },
  "language_info": {
   "codemirror_mode": {
    "name": "ipython",
    "version": 3
   },
   "file_extension": ".py",
   "mimetype": "text/x-python",
   "name": "python",
   "nbconvert_exporter": "python",
   "pygments_lexer": "ipython3",
   "version": "3.7.4"
  }
 },
 "nbformat": 4,
 "nbformat_minor": 1
}
